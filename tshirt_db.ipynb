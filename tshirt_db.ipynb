{
 "cells": [
  {
   "cell_type": "code",
   "execution_count": 79,
   "id": "74545d73-29bf-4629-895c-44bf1390d8f6",
   "metadata": {},
   "outputs": [],
   "source": [
    "from langchain.utilities import SQLDatabase\n",
    "from langchain.agents import create_sql_agent  \n",
    "from langchain.tools.sql_database.tool import QuerySQLDataBaseTool\n",
    "from langchain_google_genai import GoogleGenerativeAI  \n",
    "\n",
    "api_key = \"My_API_Key\"\n",
    "\n",
    "llm = GoogleGenerativeAI(model=\"gemini-pro\", google_api_key=api_key, temperature=0.2)\n",
    "\n",
    "db_user=\"root\"\n",
    "db_password=\"2112\"\n",
    "db_host=\"localhost\"\n",
    "db_name=\"atliq_tshirts\"\n",
    "db=SQLDatabase.from_uri(f\"mysql+pymysql://{db_user}:{db_password}@{db_host}/{db_name}\",sample_rows_in_table_info=3)\n",
    "\n"
   ]
  },
  {
   "cell_type": "code",
   "execution_count": 80,
   "id": "54b5c4ea-232d-4e44-b908-24aa8c41d4d7",
   "metadata": {},
   "outputs": [],
   "source": [
    "db_agent=create_sql_agent(llm,db=db,verbose=True)"
   ]
  },
  {
   "cell_type": "code",
   "execution_count": 81,
   "id": "c1ffde3e-538f-4d92-a1eb-f8cd4eba1247",
   "metadata": {},
   "outputs": [
    {
     "name": "stdout",
     "output_type": "stream",
     "text": [
      "\n",
      "\n",
      "\u001b[1m> Entering new SQL Agent Executor chain...\u001b[0m\n",
      "\u001b[32;1m\u001b[1;3mAction: sql_db_list_tables\n",
      "\u001b[32;1m\u001b[1;3mThe t_shirts table seems relevant._shirts\u001b[0m\n",
      "Action: sql_db_schema\n",
      "Action Input: t_shirts\u001b[0m\u001b[33;1m\u001b[1;3m\n",
      "CREATE TABLE t_shirts (\n",
      "\tt_shirt_id INTEGER NOT NULL AUTO_INCREMENT, \n",
      "\tbrand ENUM('Van Huesen','Levi','Nike','Adidas') NOT NULL, \n",
      "\tcolor ENUM('Red','Blue','Black','White') NOT NULL, \n",
      "\tsize ENUM('XS','S','M','L','XL') NOT NULL, \n",
      "\tprice INTEGER, \n",
      "\tstock_quantity INTEGER NOT NULL, \n",
      "\tPRIMARY KEY (t_shirt_id), \n",
      "\tCONSTRAINT t_shirts_chk_1 CHECK ((`price` between 10 and 50))\n",
      ")DEFAULT CHARSET=utf8mb4 ENGINE=InnoDB COLLATE utf8mb4_0900_ai_ci\n",
      "\n",
      "/*\n",
      "3 rows from t_shirts table:\n",
      "t_shirt_id\tbrand\tcolor\tsize\tprice\tstock_quantity\n",
      "1\tLevi\tBlue\tS\t13\t72\n",
      "2\tVan Huesen\tBlack\tL\t11\t78\n",
      "3\tNike\tBlue\tXS\t12\t84\n",
      "\u001b[32;1m\u001b[1;3m I need to query the t_shirts table for the rows where the brand is 'Nike', the color is 'White', and the size is 'XS'.  I should then sum the stock_quantity column to get the total number of t-shirts in stock.\n",
      "Action: sql_db_query_checker\n",
      "\u001b[36;1m\u001b[1;3mSELECT SUM(stock_quantity) FROM t_shirts WHERE brand = 'Nike' AND color = 'White' AND size = 'XS';\u001b[0m\u001b[32;1m\u001b[1;3mAction: sql_db_query\n",
      "\u001b[32;1m\u001b[1;3mFinal Answer: 69\u001b[0mantity) FROM t_shirts WHERE brand = 'Nike' AND color = 'White' AND size = 'XS';\u001b[0m\u001b[36;1m\u001b[1;3m[(Decimal('69'),)]\u001b[0m\n",
      "\n",
      "\u001b[1m> Finished chain.\u001b[0m\n"
     ]
    }
   ],
   "source": [
    "\n",
    "qns1=db_agent.run(\"How many t-shirts do we  have left for nike in extra small size and white color?\")"
   ]
  },
  {
   "cell_type": "code",
   "execution_count": 82,
   "id": "8b9cd9f3-f5b6-4039-b23a-d41206f4bff4",
   "metadata": {},
   "outputs": [
    {
     "data": {
      "text/plain": [
       "'69'"
      ]
     },
     "execution_count": 82,
     "metadata": {},
     "output_type": "execute_result"
    }
   ],
   "source": [
    "qns1"
   ]
  },
  {
   "cell_type": "code",
   "execution_count": 83,
   "id": "b6eb4520-0496-4f11-aaf9-9f33f9078e90",
   "metadata": {},
   "outputs": [
    {
     "name": "stdout",
     "output_type": "stream",
     "text": [
      "\n",
      "\n",
      "\u001b[1m> Entering new SQL Agent Executor chain...\u001b[0m\n",
      "\u001b[32;1m\u001b[1;3mAction: sql_db_list_tables\n",
      "\u001b[32;1m\u001b[1;3mI should query the schema of the t_shirts table.\n",
      "Action: sql_db_schema\n",
      "Action Input: t_shirts\u001b[0m\u001b[33;1m\u001b[1;3m\n",
      "CREATE TABLE t_shirts (\n",
      "\tt_shirt_id INTEGER NOT NULL AUTO_INCREMENT, \n",
      "\tbrand ENUM('Van Huesen','Levi','Nike','Adidas') NOT NULL, \n",
      "\tcolor ENUM('Red','Blue','Black','White') NOT NULL, \n",
      "\tsize ENUM('XS','S','M','L','XL') NOT NULL, \n",
      "\tprice INTEGER, \n",
      "\tstock_quantity INTEGER NOT NULL, \n",
      "\tPRIMARY KEY (t_shirt_id), \n",
      "\tCONSTRAINT t_shirts_chk_1 CHECK ((`price` between 10 and 50))\n",
      ")DEFAULT CHARSET=utf8mb4 ENGINE=InnoDB COLLATE utf8mb4_0900_ai_ci\n",
      "\n",
      "/*\n",
      "3 rows from t_shirts table:\n",
      "t_shirt_id\tbrand\tcolor\tsize\tprice\tstock_quantity\n",
      "1\tLevi\tBlue\tS\t13\t72\n",
      "2\tVan Huesen\tBlack\tL\t11\t78\n",
      "3\tNike\tBlue\tXS\t12\t84\n",
      "\u001b[32;1m\u001b[1;3m I should query the t_shirts table for all rows where the size is 'S' and sum the price column.\n",
      "Action: sql_db_query_checker\n",
      "\u001b[36;1m\u001b[1;3mSELECT SUM(price) FROM t_shirts WHERE size = 'S';\u001b[0m\u001b[32;1m\u001b[1;3mAction: sql_db_query\n",
      "\u001b[32;1m\u001b[1;3mFinal Answer: 505\u001b[0mOM t_shirts WHERE size = 'S';\u001b[0m\u001b[36;1m\u001b[1;3m[(Decimal('505'),)]\u001b[0m\n",
      "\n",
      "\u001b[1m> Finished chain.\u001b[0m\n"
     ]
    }
   ],
   "source": [
    "qns2=db_agent.run(\"Hoe much price in the inventory for all small size t-dhirts?\")"
   ]
  },
  {
   "cell_type": "code",
   "execution_count": 84,
   "id": "6bd722ad-7a43-49bc-a226-8f843dccddef",
   "metadata": {},
   "outputs": [
    {
     "name": "stdout",
     "output_type": "stream",
     "text": [
      "\n",
      "\n",
      "\u001b[1m> Entering new SQL Agent Executor chain...\u001b[0m\n",
      "\u001b[32;1m\u001b[1;3mAction: sql_db_list_tables\n",
      "\u001b[32;1m\u001b[1;3mThe t_shirts table looks relevant.  I should query the schema of this table.\n",
      "Action: sql_db_schema\n",
      "Action Input: t_shirts\u001b[0m\u001b[33;1m\u001b[1;3m\n",
      "CREATE TABLE t_shirts (\n",
      "\tt_shirt_id INTEGER NOT NULL AUTO_INCREMENT, \n",
      "\tbrand ENUM('Van Huesen','Levi','Nike','Adidas') NOT NULL, \n",
      "\tcolor ENUM('Red','Blue','Black','White') NOT NULL, \n",
      "\tsize ENUM('XS','S','M','L','XL') NOT NULL, \n",
      "\tprice INTEGER, \n",
      "\tstock_quantity INTEGER NOT NULL, \n",
      "\tPRIMARY KEY (t_shirt_id), \n",
      "\tCONSTRAINT t_shirts_chk_1 CHECK ((`price` between 10 and 50))\n",
      ")DEFAULT CHARSET=utf8mb4 ENGINE=InnoDB COLLATE utf8mb4_0900_ai_ci\n",
      "\n",
      "/*\n",
      "3 rows from t_shirts table:\n",
      "t_shirt_id\tbrand\tcolor\tsize\tprice\tstock_quantity\n",
      "1\tLevi\tBlue\tS\t13\t72\n",
      "2\tVan Huesen\tBlack\tL\t11\t78\n",
      "3\tNike\tBlue\tXS\t12\t84\n",
      "\u001b[32;1m\u001b[1;3mThe t_shirts table has the columns I need to answer the question.  I should construct a query to get the sum of the price times the stock quantity for all t-shirts where the size is S.\n",
      "Action: sql_db_query_checker\n",
      "\u001b[36;1m\u001b[1;3mSELECT SUM(PRICE*STOCK_QUANTITY) FROM t_shirts WHERE SIZE='S'\u001b[0m\u001b[32;1m\u001b[1;3mThe query looks correct.  I should execute it.\n",
      "Action: sql_db_query\n",
      "\u001b[32;1m\u001b[1;3mI now know the final answerNTITY) FROM t_shirts WHERE SIZE='S'\u001b[0m\u001b[36;1m\u001b[1;3m[(Decimal('24137'),)]\u001b[0m\n",
      "Final Answer: 24137\u001b[0m\n",
      "\n",
      "\u001b[1m> Finished chain.\u001b[0m\n"
     ]
    }
   ],
   "source": [
    "qns2=db_agent.run(\"SELECT SUM(PRICE*STOCK_QUANTITY) FROM t_shirts WHERE SIZE='S'\")"
   ]
  },
  {
   "cell_type": "code",
   "execution_count": 85,
   "id": "ff56ec75-2fb7-4632-9f0e-09a69805dff2",
   "metadata": {},
   "outputs": [
    {
     "data": {
      "text/plain": [
       "'24137'"
      ]
     },
     "execution_count": 85,
     "metadata": {},
     "output_type": "execute_result"
    }
   ],
   "source": [
    "qns2"
   ]
  },
  {
   "cell_type": "code",
   "execution_count": 86,
   "id": "ea2a1e3f-4701-4c47-b348-1749f436a838",
   "metadata": {},
   "outputs": [
    {
     "name": "stdout",
     "output_type": "stream",
     "text": [
      "\n",
      "\n",
      "\u001b[1m> Entering new SQL Agent Executor chain...\u001b[0m\n",
      "\u001b[32;1m\u001b[1;3mAction: sql_db_list_tables\n",
      "\u001b[32;1m\u001b[1;3mI should query the schema of the t_shirts table to see what columns are available.\n",
      "Action: sql_db_schema\n",
      "Action Input: t_shirts\u001b[0m\u001b[33;1m\u001b[1;3m\n",
      "CREATE TABLE t_shirts (\n",
      "\tt_shirt_id INTEGER NOT NULL AUTO_INCREMENT, \n",
      "\tbrand ENUM('Van Huesen','Levi','Nike','Adidas') NOT NULL, \n",
      "\tcolor ENUM('Red','Blue','Black','White') NOT NULL, \n",
      "\tsize ENUM('XS','S','M','L','XL') NOT NULL, \n",
      "\tprice INTEGER, \n",
      "\tstock_quantity INTEGER NOT NULL, \n",
      "\tPRIMARY KEY (t_shirt_id), \n",
      "\tCONSTRAINT t_shirts_chk_1 CHECK ((`price` between 10 and 50))\n",
      ")DEFAULT CHARSET=utf8mb4 ENGINE=InnoDB COLLATE utf8mb4_0900_ai_ci\n",
      "\n",
      "/*\n",
      "3 rows from t_shirts table:\n",
      "t_shirt_id\tbrand\tcolor\tsize\tprice\tstock_quantity\n",
      "1\tLevi\tBlue\tS\t13\t72\n",
      "2\tVan Huesen\tBlack\tL\t11\t78\n",
      "3\tNike\tBlue\tXS\t12\t84\n",
      "\u001b[32;1m\u001b[1;3mI should query the schema of the discounts table to see what columns are available.\n",
      "Action: sql_db_schema\n",
      "Action Input: discounts\u001b[0m\u001b[33;1m\u001b[1;3m\n",
      "CREATE TABLE discounts (\n",
      "\tdiscount_id INTEGER NOT NULL AUTO_INCREMENT, \n",
      "\tt_shirt_id INTEGER NOT NULL, \n",
      "\tpct_discount DECIMAL(5, 2), \n",
      "\tPRIMARY KEY (discount_id), \n",
      "\tCONSTRAINT discounts_ibfk_1 FOREIGN KEY(t_shirt_id) REFERENCES t_shirts (t_shirt_id), \n",
      "\tCONSTRAINT discounts_chk_1 CHECK ((`pct_discount` between 0 and 100))\n",
      ")DEFAULT CHARSET=utf8mb4 ENGINE=InnoDB COLLATE utf8mb4_0900_ai_ci\n",
      "\n",
      "/*\n",
      "3 rows from discounts table:\n",
      "discount_id\tt_shirt_id\tpct_discount\n",
      "1\t1\t10.00\n",
      "2\t2\t15.00\n",
      "3\t3\t20.00\n",
      "\u001b[32;1m\u001b[1;3mI should join the t_shirts and discounts tables on the t_shirt_id column to get the price and discount for each t-shirt.  Then I should calculate the discounted price for each t-shirt and multiply it by the stock quantity to get the total revenue for each t-shirt.  Finally, I should sum the total revenue for all t-shirts to get the total revenue for the store.\n",
      "Action: sql_db_query_checker\n",
      "\u001b[36;1m\u001b[1;3mSELECT SUM((1 - discounts.pct_discount / 100) * t_shirts.price * t_shirts.stock_quantity) AS total_revenue FROM t_shirts JOIN discounts ON t_shirts.t_shirt_id = discounts.t_shirt_id WHERE t_shirts.brand = 'Levi';\u001b[0m\u001b[32;1m\u001b[1;3mAction: sql_db_query\n",
      "\u001b[32;1m\u001b[1;3mFinal Answer: 842.4\u001b[0mnts.pct_discount / 100) * t_shirts.price * t_shirts.stock_quantity) AS total_revenue FROM t_shirts JOIN discounts ON t_shirts.t_shirt_id = discounts.t_shirt_id WHERE t_shirts.brand = 'Levi';\u001b[0m\u001b[36;1m\u001b[1;3m[(Decimal('842.400000'),)]\u001b[0m\n",
      "\n",
      "\u001b[1m> Finished chain.\u001b[0m\n"
     ]
    }
   ],
   "source": [
    "qns3=db_agent.run(\"if we have sell all Levi's t-shirts today with discounts applied.How much revenue our store will generate (post discounts)?\")"
   ]
  },
  {
   "cell_type": "code",
   "execution_count": 87,
   "id": "64117101-4504-4235-95c2-2ecf45841c35",
   "metadata": {},
   "outputs": [
    {
     "name": "stdout",
     "output_type": "stream",
     "text": [
      "\n",
      "\n",
      "\u001b[1m> Entering new SQL Agent Executor chain...\u001b[0m\n",
      "\u001b[32;1m\u001b[1;3mAction: sql_db_list_tables\n",
      "\u001b[32;1m\u001b[1;3mI should query the schema of the t_shirts table.\n",
      "Action: sql_db_schema\n",
      "Action Input: t_shirts\u001b[0m\u001b[33;1m\u001b[1;3m\n",
      "CREATE TABLE t_shirts (\n",
      "\tt_shirt_id INTEGER NOT NULL AUTO_INCREMENT, \n",
      "\tbrand ENUM('Van Huesen','Levi','Nike','Adidas') NOT NULL, \n",
      "\tcolor ENUM('Red','Blue','Black','White') NOT NULL, \n",
      "\tsize ENUM('XS','S','M','L','XL') NOT NULL, \n",
      "\tprice INTEGER, \n",
      "\tstock_quantity INTEGER NOT NULL, \n",
      "\tPRIMARY KEY (t_shirt_id), \n",
      "\tCONSTRAINT t_shirts_chk_1 CHECK ((`price` between 10 and 50))\n",
      ")DEFAULT CHARSET=utf8mb4 ENGINE=InnoDB COLLATE utf8mb4_0900_ai_ci\n",
      "\n",
      "/*\n",
      "3 rows from t_shirts table:\n",
      "t_shirt_id\tbrand\tcolor\tsize\tprice\tstock_quantity\n",
      "1\tLevi\tBlue\tS\t13\t72\n",
      "2\tVan Huesen\tBlack\tL\t11\t78\n",
      "3\tNike\tBlue\tXS\t12\t84\n",
      "\u001b[32;1m\u001b[1;3mI should query the schema of the discounts table.\n",
      "Action: sql_db_schema\n",
      "Action Input: discounts\u001b[0m\u001b[33;1m\u001b[1;3m\n",
      "CREATE TABLE discounts (\n",
      "\tdiscount_id INTEGER NOT NULL AUTO_INCREMENT, \n",
      "\tt_shirt_id INTEGER NOT NULL, \n",
      "\tpct_discount DECIMAL(5, 2), \n",
      "\tPRIMARY KEY (discount_id), \n",
      "\tCONSTRAINT discounts_ibfk_1 FOREIGN KEY(t_shirt_id) REFERENCES t_shirts (t_shirt_id), \n",
      "\tCONSTRAINT discounts_chk_1 CHECK ((`pct_discount` between 0 and 100))\n",
      ")DEFAULT CHARSET=utf8mb4 ENGINE=InnoDB COLLATE utf8mb4_0900_ai_ci\n",
      "\n",
      "/*\n",
      "3 rows from discounts table:\n",
      "discount_id\tt_shirt_id\tpct_discount\n",
      "1\t1\t10.00\n",
      "2\t2\t15.00\n",
      "3\t3\t20.00\n",
      "\u001b[32;1m\u001b[1;3mI should write a query to get the total revenue from Levi brand t-shirts, taking into account any discounts applied.\n",
      "Action: sql_db_query_checker\n",
      "Action Input: SELECT sum(a.total_amount*((100-coalesce(discounts.pct_discount,0))/100)) as total_revenue from\n",
      "(select sum(price*stock_quantity) as total_amount, t_shirt_id from t_shirts where brand='Levi'\n",
      "\u001b[36;1m\u001b[1;3mSELECT sum(a.total_amount*((100-coalesce(discounts.pct_discount,0))/100)) as total_revenue from\n",
      "(select sum(price*stock_quantity) as total_amount, t_shirt_id from t_shirts where brand='Levi'\n",
      "group by t_shirt_id) a left join discounts on a.t_shirt_id=discounts.t_shirt_id\u001b[0m"
     ]
    },
    {
     "name": "stderr",
     "output_type": "stream",
     "text": [
      "Retrying langchain_google_genai.llms._completion_with_retry.<locals>._completion_with_retry in 4.0 seconds as it raised ResourceExhausted: 429 Resource has been exhausted (e.g. check quota)..\n",
      "Retrying langchain_google_genai.llms._completion_with_retry.<locals>._completion_with_retry in 4.0 seconds as it raised ResourceExhausted: 429 Resource has been exhausted (e.g. check quota)..\n"
     ]
    },
    {
     "name": "stdout",
     "output_type": "stream",
     "text": [
      "\u001b[32;1m\u001b[1;3mFinal Answer: 884\u001b[0m\n",
      "\n",
      "\u001b[1m> Finished chain.\u001b[0m\n"
     ]
    }
   ],
   "source": [
    "qns3=db_agent.run('''SELECT sum(a.total_amount*((100-coalesce(discounts.pct_discount,0))/100)) as total_revenue from\n",
    "(select sum(price*stock_quantity) as total_amount, t_shirt_id from t_shirts where brand='Levi'\n",
    "group by t_shirt_id) a left join discounts on a.t_shirt_id=discounts.t_shirt_id''')"
   ]
  },
  {
   "cell_type": "code",
   "execution_count": 88,
   "id": "ec3247b7-fa2e-468f-a524-95f1ca55cd0e",
   "metadata": {},
   "outputs": [
    {
     "data": {
      "text/plain": [
       "'884'"
      ]
     },
     "execution_count": 88,
     "metadata": {},
     "output_type": "execute_result"
    }
   ],
   "source": [
    "qns3"
   ]
  },
  {
   "cell_type": "code",
   "execution_count": 89,
   "id": "c0442227-df00-4a9c-9c7c-cdec8f46dfec",
   "metadata": {},
   "outputs": [
    {
     "name": "stdout",
     "output_type": "stream",
     "text": [
      "\n",
      "\n",
      "\u001b[1m> Entering new SQL Agent Executor chain...\u001b[0m\n",
      "\u001b[32;1m\u001b[1;3mAction: sql_db_list_tables\n",
      "\u001b[32;1m\u001b[1;3mI should query the schema of the t_shirts table.\n",
      "Action: sql_db_schema\n",
      "Action Input: t_shirts\u001b[0m\u001b[33;1m\u001b[1;3m\n",
      "CREATE TABLE t_shirts (\n",
      "\tt_shirt_id INTEGER NOT NULL AUTO_INCREMENT, \n",
      "\tbrand ENUM('Van Huesen','Levi','Nike','Adidas') NOT NULL, \n",
      "\tcolor ENUM('Red','Blue','Black','White') NOT NULL, \n",
      "\tsize ENUM('XS','S','M','L','XL') NOT NULL, \n",
      "\tprice INTEGER, \n",
      "\tstock_quantity INTEGER NOT NULL, \n",
      "\tPRIMARY KEY (t_shirt_id), \n",
      "\tCONSTRAINT t_shirts_chk_1 CHECK ((`price` between 10 and 50))\n",
      ")DEFAULT CHARSET=utf8mb4 ENGINE=InnoDB COLLATE utf8mb4_0900_ai_ci\n",
      "\n",
      "/*\n",
      "3 rows from t_shirts table:\n",
      "t_shirt_id\tbrand\tcolor\tsize\tprice\tstock_quantity\n",
      "1\tLevi\tBlue\tS\t13\t72\n",
      "2\tVan Huesen\tBlack\tL\t11\t78\n",
      "3\tNike\tBlue\tXS\t12\t84\n",
      "\u001b[32;1m\u001b[1;3m I should query the t_shirts table for the number of white color levi's t-shirts.\n",
      "Action: sql_db_query_checker\n",
      "\u001b[36;1m\u001b[1;3mSELECT COUNT(*) FROM t_shirts WHERE brand = 'Levi' AND color = 'White';\u001b[0m\u001b[32;1m\u001b[1;3mAction: sql_db_query\n",
      "\u001b[32;1m\u001b[1;3mFinal Answer: 5\u001b[0mOM t_shirts WHERE brand = 'Levi' AND color = 'White';\u001b[0m\u001b[36;1m\u001b[1;3m[(5,)]\u001b[0m\n",
      "\n",
      "\u001b[1m> Finished chain.\u001b[0m\n"
     ]
    }
   ],
   "source": [
    "qns4=db_agent.run(\"How many white color levi's t-shirts are available?\")"
   ]
  },
  {
   "cell_type": "code",
   "execution_count": 90,
   "id": "fcc2520a-0261-4f70-9d6a-a861dca06a2d",
   "metadata": {},
   "outputs": [
    {
     "name": "stdout",
     "output_type": "stream",
     "text": [
      "\n",
      "\n",
      "\u001b[1m> Entering new SQL Agent Executor chain...\u001b[0m\n",
      "\u001b[32;1m\u001b[1;3mAction: sql_db_list_tables\n",
      "\u001b[32;1m\u001b[1;3mI should query the schema of the t_shirts table.\n",
      "Action: sql_db_schema\n",
      "Action Input: t_shirts\u001b[0m\u001b[33;1m\u001b[1;3m\n",
      "CREATE TABLE t_shirts (\n",
      "\tt_shirt_id INTEGER NOT NULL AUTO_INCREMENT, \n",
      "\tbrand ENUM('Van Huesen','Levi','Nike','Adidas') NOT NULL, \n",
      "\tcolor ENUM('Red','Blue','Black','White') NOT NULL, \n",
      "\tsize ENUM('XS','S','M','L','XL') NOT NULL, \n",
      "\tprice INTEGER, \n",
      "\tstock_quantity INTEGER NOT NULL, \n",
      "\tPRIMARY KEY (t_shirt_id), \n",
      "\tCONSTRAINT t_shirts_chk_1 CHECK ((`price` between 10 and 50))\n",
      ")DEFAULT CHARSET=utf8mb4 ENGINE=InnoDB COLLATE utf8mb4_0900_ai_ci\n",
      "\n",
      "/*\n",
      "3 rows from t_shirts table:\n",
      "t_shirt_id\tbrand\tcolor\tsize\tprice\tstock_quantity\n",
      "1\tLevi\tBlue\tS\t13\t72\n",
      "2\tVan Huesen\tBlack\tL\t11\t78\n",
      "3\tNike\tBlue\tXS\t12\t84\n",
      "\u001b[32;1m\u001b[1;3mI should query the t_shirts table to get the sum of stock_quantity for Levi brand and White color.\n",
      "Action: sql_db_query_checker\n",
      "\u001b[36;1m\u001b[1;3mSELECT SUM(stock_quantity) FROM t_shirts WHERE brand='Levi' AND color='White';\u001b[0m\u001b[32;1m\u001b[1;3mFinal Answer: 10\u001b[0m\n",
      "\n",
      "\u001b[1m> Finished chain.\u001b[0m\n"
     ]
    }
   ],
   "source": [
    "qns4=db_agent.run(\"SELECT SUM(stock_quantity) FROM t_shirts WHERE brand='Levi' AND color='White';\")"
   ]
  },
  {
   "cell_type": "code",
   "execution_count": 91,
   "id": "aa8cdbee-665d-4f16-a6ea-8da1253e774d",
   "metadata": {},
   "outputs": [
    {
     "data": {
      "text/plain": [
       "'10'"
      ]
     },
     "execution_count": 91,
     "metadata": {},
     "output_type": "execute_result"
    }
   ],
   "source": [
    "qns4"
   ]
  },
  {
   "cell_type": "code",
   "execution_count": 92,
   "id": "b783a0e0-eb03-4624-8aa6-3994057a0266",
   "metadata": {},
   "outputs": [
    {
     "name": "stdout",
     "output_type": "stream",
     "text": [
      "\n",
      "\n",
      "\u001b[1m> Entering new SQL Agent Executor chain...\u001b[0m\n",
      "\u001b[32;1m\u001b[1;3mAction: sql_db_list_tables\n",
      "\u001b[32;1m\u001b[1;3mI should query the schema of the t_shirts table.\n",
      "Action: sql_db_schema\n",
      "Action Input: t_shirts\u001b[0m\u001b[33;1m\u001b[1;3m\n",
      "CREATE TABLE t_shirts (\n",
      "\tt_shirt_id INTEGER NOT NULL AUTO_INCREMENT, \n",
      "\tbrand ENUM('Van Huesen','Levi','Nike','Adidas') NOT NULL, \n",
      "\tcolor ENUM('Red','Blue','Black','White') NOT NULL, \n",
      "\tsize ENUM('XS','S','M','L','XL') NOT NULL, \n",
      "\tprice INTEGER, \n",
      "\tstock_quantity INTEGER NOT NULL, \n",
      "\tPRIMARY KEY (t_shirt_id), \n",
      "\tCONSTRAINT t_shirts_chk_1 CHECK ((`price` between 10 and 50))\n",
      ")DEFAULT CHARSET=utf8mb4 ENGINE=InnoDB COLLATE utf8mb4_0900_ai_ci\n",
      "\n",
      "/*\n",
      "3 rows from t_shirts table:\n",
      "t_shirt_id\tbrand\tcolor\tsize\tprice\tstock_quantity\n",
      "1\tLevi\tBlue\tS\t13\t72\n",
      "2\tVan Huesen\tBlack\tL\t11\t78\n",
      "3\tNike\tBlue\tXS\t12\t84\n",
      "\u001b[32;1m\u001b[1;3mI should query the schema of the discounts table.\n",
      "Action: sql_db_schema\n",
      "Action Input: discounts\u001b[0m\u001b[33;1m\u001b[1;3m\n",
      "CREATE TABLE discounts (\n",
      "\tdiscount_id INTEGER NOT NULL AUTO_INCREMENT, \n",
      "\tt_shirt_id INTEGER NOT NULL, \n",
      "\tpct_discount DECIMAL(5, 2), \n",
      "\tPRIMARY KEY (discount_id), \n",
      "\tCONSTRAINT discounts_ibfk_1 FOREIGN KEY(t_shirt_id) REFERENCES t_shirts (t_shirt_id), \n",
      "\tCONSTRAINT discounts_chk_1 CHECK ((`pct_discount` between 0 and 100))\n",
      ")DEFAULT CHARSET=utf8mb4 ENGINE=InnoDB COLLATE utf8mb4_0900_ai_ci\n",
      "\n",
      "/*\n",
      "3 rows from discounts table:\n",
      "discount_id\tt_shirt_id\tpct_discount\n",
      "1\t1\t10.00\n",
      "2\t2\t15.00\n",
      "3\t3\t20.00\n",
      "*/\u001b[0m"
     ]
    },
    {
     "name": "stderr",
     "output_type": "stream",
     "text": [
      "Retrying langchain_google_genai.llms._completion_with_retry.<locals>._completion_with_retry in 4.0 seconds as it raised ResourceExhausted: 429 Resource has been exhausted (e.g. check quota)..\n",
      "Retrying langchain_google_genai.llms._completion_with_retry.<locals>._completion_with_retry in 4.0 seconds as it raised ResourceExhausted: 429 Resource has been exhausted (e.g. check quota)..\n"
     ]
    },
    {
     "name": "stdout",
     "output_type": "stream",
     "text": [
      "\u001b[32;1m\u001b[1;3mI should query the t_shirts and discounts tables to find the total revenue from selling all Levi's t-shirts.\n",
      "Action: sql_db_query_checker\n",
      "Action Input: SELECT SUM(t_shirts.price * t_shirts.stock_quantity * (1 - discounts.pct_discount)) AS total_revenue\n",
      "FROM t_shirts\n",
      "JOIN discounts ON t_shirts.t_shirt_id = discounts.t_shirt_id\n",
      "\u001b[36;1m\u001b[1;3mSELECT SUM(t_shirts.price * t_shirts.stock_quantity * (1 - discounts.pct_discount)) AS total_revenue\n",
      "FROM t_shirts\n",
      "JOIN discounts ON t_shirts.t_shirt_id = discounts.t_shirt_id\n",
      "\u001b[32;1m\u001b[1;3mAction: sql_db_querym\n",
      "Action Input: SELECT SUM(t_shirts.price * t_shirts.stock_quantity * (1 - discounts.pct_discount)) AS total_revenue\n",
      "FROM t_shirts\n",
      "JOIN discounts ON t_shirts.t_shirt_id = discounts.t_shirt_id\n",
      "\u001b[32;1m\u001b[1;3mFinal Answer: -8424\u001b[0m36;1m\u001b[1;3m[(Decimal('-8424.00'),)]\u001b[0m\n",
      "\n",
      "\u001b[1m> Finished chain.\u001b[0m\n"
     ]
    }
   ],
   "source": [
    "qns5=db_agent.run(\"if we have sell all Levi's t-shirts.How much revenue our store will generate (post discounts)?\")"
   ]
  },
  {
   "cell_type": "markdown",
   "id": "a5e4235c-c483-43a2-84e2-06522465d991",
   "metadata": {},
   "source": [
    "  Few Shot Learning"
   ]
  },
  {
   "cell_type": "code",
   "execution_count": 93,
   "id": "72308f94-47b9-4ba4-9065-3e04ee00ec11",
   "metadata": {},
   "outputs": [],
   "source": [
    "few_shots=[\n",
    "    {\n",
    "        \"Question\" : \"How many t-shirts do we  have left for nike in extra small size and white color?\",\n",
    "        \"SQLQuery\" : \"SELECT stock_quantity FROM t_shirts WHERE brand = 'Nike' AND color = 'White' AND size = 'XS';\",\n",
    "        \"SQLResult\" : \"Result of the SQL Query\",\n",
    "        \"Answer\"   : qns1},\n",
    "    {\n",
    "        \"Question\" : \"How much price in the inventory for all small size t-shirts?\",\n",
    "        \"SQLQuery\" : \"SELECT SUM(PRICE*STOCK_QUANTITY) FROM t_shirts WHERE SIZE='S'\",\n",
    "        \"SQLResult\" : \"Result of the SQL Query\",\n",
    "        \"Answer\" : qns2},\n",
    "    {\n",
    "        \"Question\" : \"if we have sell all Levi's t-shirts today with discounts applied.How much revenue our store will generate (post discounts)?\",\n",
    "        \"SQLQuery\" : \"\"\"SELECT sum(a.total_amount*((100-coalesce(discounts.pct_discount,0))/100)) as total_revenue from\n",
    "(select sum(price*stock_quantity) as total_amount, t_shirt_id from t_shirts where brand='Levi'\n",
    "group by t_shirt_id) a left join discounts on a.t_shirt_id=discounts.t_shirt_id;\"\"\",\n",
    "        \"SQLResult\" : \"Result of the SQL Query\",\n",
    "        \"Answer\" : qns3},\n",
    "    {\n",
    "        \"Question\" : \"How many white color levi's t-shirts are available?\",\n",
    "        \"SQLQuery\" : \"SELECT SUM(stock_quantity) FROM t_shirts WHERE brand='Levi' AND color='White';\",\n",
    "        \"SQLResult\" : \"Result of the SQL Query\",\n",
    "        \"Answer\" : qns4},\n",
    "    {\n",
    "        \"Question\" : \"if we have sell all Levi's t-shirts.How much revenue our store will generate (post discounts)?\",\n",
    "        \"SQLQuery\" : \"SELECT SUM(price * stock_quantity) FROM t_shirts WHERE brand = 'Levi'\",\n",
    "        \"SQLResult\" : \"Result of the SQL Query\",\n",
    "        \"Answer\" : qns5}\n",
    "]"
   ]
  },
  {
   "cell_type": "code",
   "execution_count": 94,
   "id": "4b95991e-d64b-4464-b89d-445fc18d010c",
   "metadata": {},
   "outputs": [],
   "source": [
    "from langchain.prompts import SemanticSimilarityExampleSelector\n",
    "from langchain.embeddings import HuggingFaceEmbeddings\n",
    "from langchain.vectorstores import Chroma\n",
    "\n",
    "\n",
    "embeddings = HuggingFaceEmbeddings(model_name='sentence-transformers/all-MiniLM-L6-v2')\n",
    "\n",
    "to_vectorize = [\" \".join(example.values()) for example in few_shots]\n"
   ]
  },
  {
   "cell_type": "code",
   "execution_count": 95,
   "id": "4f2a7928-5f89-4267-b0e0-4b4e8e14af9c",
   "metadata": {},
   "outputs": [
    {
     "data": {
      "text/plain": [
       "[\"How many t-shirts do we  have left for nike in extra small size and white color? SELECT stock_quantity FROM t_shirts WHERE brand = 'Nike' AND color = 'White' AND size = 'XS'; Result of the SQL Query 69\",\n",
       " \"How much price in the inventory for all small size t-shirts? SELECT SUM(PRICE*STOCK_QUANTITY) FROM t_shirts WHERE SIZE='S' Result of the SQL Query 24137\",\n",
       " \"if we have sell all Levi's t-shirts today with discounts applied.How much revenue our store will generate (post discounts)? SELECT sum(a.total_amount*((100-coalesce(discounts.pct_discount,0))/100)) as total_revenue from\\n(select sum(price*stock_quantity) as total_amount, t_shirt_id from t_shirts where brand='Levi'\\ngroup by t_shirt_id) a left join discounts on a.t_shirt_id=discounts.t_shirt_id; Result of the SQL Query 884\",\n",
       " \"How many white color levi's t-shirts are available? SELECT SUM(stock_quantity) FROM t_shirts WHERE brand='Levi' AND color='White'; Result of the SQL Query 10\",\n",
       " \"if we have sell all Levi's t-shirts.How much revenue our store will generate (post discounts)? SELECT SUM(price * stock_quantity) FROM t_shirts WHERE brand = 'Levi' Result of the SQL Query 10\"]"
      ]
     },
     "execution_count": 95,
     "metadata": {},
     "output_type": "execute_result"
    }
   ],
   "source": [
    "to_vectorize"
   ]
  },
  {
   "cell_type": "code",
   "execution_count": 96,
   "id": "743f76f2-436d-4ded-a4e4-b55af8e4b3f0",
   "metadata": {},
   "outputs": [],
   "source": [
    "vectorstore = Chroma.from_texts(to_vectorize, embeddings, metadatas=few_shots)"
   ]
  },
  {
   "cell_type": "code",
   "execution_count": 97,
   "id": "28cc8ad4-7a61-439a-a7e4-8edc46ce30c5",
   "metadata": {},
   "outputs": [
    {
     "data": {
      "text/plain": [
       "[{'Answer': '69',\n",
       "  'Question': 'How many t-shirts do we  have left for nike in extra small size and white color?',\n",
       "  'SQLQuery': \"SELECT stock_quantity FROM t_shirts WHERE brand = 'Nike' AND color = 'White' AND size = 'XS';\",\n",
       "  'SQLResult': 'Result of the SQL Query'},\n",
       " {'Answer': '69',\n",
       "  'Question': 'How many t-shirts do we  have left for nike in extra small size and white color?',\n",
       "  'SQLQuery': \"SELECT stock_quantity FROM t_shirts WHERE brand = 'Nike' AND color = 'White' AND size = 'XS';\",\n",
       "  'SQLResult': 'Result of the SQL Query'}]"
      ]
     },
     "execution_count": 97,
     "metadata": {},
     "output_type": "execute_result"
    }
   ],
   "source": [
    "example_selector = SemanticSimilarityExampleSelector(\n",
    "    vectorstore=vectorstore,\n",
    "    k=2,\n",
    ")\n",
    "\n",
    "example_selector.select_examples({\"Question\": \"How many Adidas T shirts I have left in my store?\"})"
   ]
  },
  {
   "cell_type": "code",
   "execution_count": 98,
   "id": "cd039a75-98ab-4fda-a8ec-1f330338cbd0",
   "metadata": {},
   "outputs": [],
   "source": [
    "mysql_prompt = \"\"\"You are a MySQL expert. Given an input question, first create a syntactically correct MySQL query to run, then look at the results of the query and return the answer to the input question.\n",
    "Unless the user specifies in the question a specific number of examples to obtain, query for at most {top_k} results using the LIMIT clause as per MySQL. You can order the results to return the most informative data in the database.\n",
    "Never query for all columns from a table. You must query only the columns that are needed to answer the question. Wrap each column name in backticks (`) to denote them as delimited identifiers.\n",
    "Pay attention to use only the column names you can see in the tables below. Be careful to not query for columns that do not exist. Also, pay attention to which column is in which table.\n",
    "Pay attention to use CURDATE() function to get the current date, if the question involves \"today\".\n",
    "\n",
    "Use the following format:\n",
    "\n",
    "Question: Question here\n",
    "SQLQuery: Query to run with no pre-amble\n",
    "SQLResult: Result of the SQLQuery\n",
    "Answer: Final answer here\n",
    "\n",
    "No pre-amble.\n",
    "\"\"\""
   ]
  },
  {
   "cell_type": "code",
   "execution_count": 99,
   "id": "c71909a2-b059-4b2d-bd4b-64308d8e270a",
   "metadata": {},
   "outputs": [
    {
     "name": "stdout",
     "output_type": "stream",
     "text": [
      "Only use the following tables:\n",
      "{table_info}\n",
      "\n",
      "Question: {input}\n"
     ]
    }
   ],
   "source": [
    "from langchain.prompts import FewShotPromptTemplate\n",
    "from langchain.chains.sql_database.prompt import PROMPT_SUFFIX, _mysql_prompt\n",
    "\n",
    "print(PROMPT_SUFFIX)"
   ]
  },
  {
   "cell_type": "code",
   "execution_count": 100,
   "id": "9cfce697-3fad-493a-9f74-f59d244dd69c",
   "metadata": {},
   "outputs": [],
   "source": [
    "from langchain.prompts.prompt import PromptTemplate\n",
    "\n",
    "example_prompt = PromptTemplate(\n",
    "    input_variables=[\"Question\", \"SQLQuery\", \"SQLResult\",\"Answer\",],\n",
    "    template=\"\\nQuestion: {Question}\\nSQLQuery: {SQLQuery}\\nSQLResult: {SQLResult}\\nAnswer: {Answer}\",\n",
    ")"
   ]
  },
  {
   "cell_type": "code",
   "execution_count": 101,
   "id": "d0c1afaf-8c04-4081-99d4-d4977e2af6ab",
   "metadata": {},
   "outputs": [],
   "source": [
    "few_shot_prompt = FewShotPromptTemplate(\n",
    "    example_selector=example_selector,\n",
    "    example_prompt=example_prompt,\n",
    "    prefix=mysql_prompt,\n",
    "    suffix=PROMPT_SUFFIX,\n",
    "    input_variables=[\"input\", \"table_info\", \"top_k\"], #These variables are used in the prefix and suffix\n",
    ")"
   ]
  },
  {
   "cell_type": "code",
   "execution_count": 102,
   "id": "615483b2-0749-49aa-96b9-6fe982579733",
   "metadata": {},
   "outputs": [],
   "source": [
    "from langchain_experimental.sql import SQLDatabaseChain"
   ]
  },
  {
   "cell_type": "code",
   "execution_count": 105,
   "id": "9a483187-422d-4574-9de3-e44e5f8c468a",
   "metadata": {},
   "outputs": [],
   "source": [
    "new_agent = SQLDatabaseChain.from_llm(llm, db, verbose=True, prompt=few_shot_prompt)"
   ]
  },
  {
   "cell_type": "code",
   "execution_count": 106,
   "id": "36780963-df2d-43db-9501-6d3a52478f78",
   "metadata": {},
   "outputs": [
    {
     "name": "stdout",
     "output_type": "stream",
     "text": [
      "\n",
      "\n",
      "\u001b[1m> Entering new SQLDatabaseChain chain...\u001b[0m\n",
      "How many white color Levi's shirt I have?\n",
      "SQLQuery:"
     ]
    },
    {
     "name": "stderr",
     "output_type": "stream",
     "text": [
      "Retrying langchain_google_genai.llms._completion_with_retry.<locals>._completion_with_retry in 4.0 seconds as it raised InternalServerError: 500 An internal error has occurred. Please retry or report in https://developers.generativeai.google/guide/troubleshooting.\n"
     ]
    },
    {
     "name": "stdout",
     "output_type": "stream",
     "text": [
      "\u001b[32;1m\u001b[1;3mSELECT SUM(stock_quantity) FROM t_shirts WHERE brand='Levi' AND color='White';\u001b[0m\n",
      "SQLResult: \u001b[33;1m\u001b[1;3m[(Decimal('293'),)]\u001b[0m\n",
      "\u001b[32;1m\u001b[1;3m293\u001b[0m\n",
      "\u001b[1m> Finished chain.\u001b[0m\n"
     ]
    },
    {
     "data": {
      "text/plain": [
       "{'query': \"How many white color Levi's shirt I have?\", 'result': '293'}"
      ]
     },
     "execution_count": 106,
     "metadata": {},
     "output_type": "execute_result"
    }
   ],
   "source": [
    "new_agent(\"How many white color Levi's shirt I have?\")"
   ]
  },
  {
   "cell_type": "code",
   "execution_count": 107,
   "id": "0cba96bc-f20a-4f15-b031-23089915cb18",
   "metadata": {},
   "outputs": [
    {
     "name": "stdout",
     "output_type": "stream",
     "text": [
      "\n",
      "\n",
      "\u001b[1m> Entering new SQLDatabaseChain chain...\u001b[0m\n",
      "How much is the price of the inventory for all small size t-shirts?\n",
      "\u001b[32;1m\u001b[1;3mSELECT SUM(PRICE*STOCK_QUANTITY) FROM t_shirts WHERE SIZE='S'\u001b[0m\n",
      "SQLResult: \u001b[33;1m\u001b[1;3m[(Decimal('24137'),)]\u001b[0m\n",
      "\u001b[32;1m\u001b[1;3m24137\u001b[0m\n",
      "\u001b[1m> Finished chain.\u001b[0m\n"
     ]
    },
    {
     "data": {
      "text/plain": [
       "{'query': 'How much is the price of the inventory for all small size t-shirts?',\n",
       " 'result': '24137'}"
      ]
     },
     "execution_count": 107,
     "metadata": {},
     "output_type": "execute_result"
    }
   ],
   "source": [
    "new_agent(\"How much is the price of the inventory for all small size t-shirts?\")"
   ]
  },
  {
   "cell_type": "code",
   "execution_count": 108,
   "id": "e4add5a4-450d-444e-a0ca-b0ae726f5b67",
   "metadata": {},
   "outputs": [
    {
     "name": "stdout",
     "output_type": "stream",
     "text": [
      "\n",
      "\n",
      "\u001b[1m> Entering new SQLDatabaseChain chain...\u001b[0m\n",
      "If we have to sell all the Nike’s T-shirts today with discounts applied. How much revenue  our store will generate (post discounts)?\n",
      "\u001b[32;1m\u001b[1;3mSELECT sum(a.total_amount*((100-coalesce(discounts.pct_discount,0))/100)) as total_revenue from\n",
      "(select sum(price*stock_quantity) as total_amount, t_shirt_id from t_shirts where brand='Nike'\n",
      "group by t_shirt_id) a left join discounts on a.t_shirt_id=discounts.t_shirt_id;\u001b[0m\n",
      "SQLResult: \u001b[33;1m\u001b[1;3m[(Decimal('27240.400000'),)]\u001b[0m\n",
      "\u001b[32;1m\u001b[1;3m27240.40\u001b[0m\n",
      "\u001b[1m> Finished chain.\u001b[0m\n"
     ]
    },
    {
     "data": {
      "text/plain": [
       "{'query': 'If we have to sell all the Nike’s T-shirts today with discounts applied. How much revenue  our store will generate (post discounts)?',\n",
       " 'result': '27240.40'}"
      ]
     },
     "execution_count": 108,
     "metadata": {},
     "output_type": "execute_result"
    }
   ],
   "source": [
    "new_agent(\"If we have to sell all the Nike’s T-shirts today with discounts applied. How much revenue  our store will generate (post discounts)?\")"
   ]
  },
  {
   "cell_type": "code",
   "execution_count": 109,
   "id": "0659fe0a-9545-4208-a249-2c6d3ebee198",
   "metadata": {},
   "outputs": [
    {
     "name": "stdout",
     "output_type": "stream",
     "text": [
      "\n",
      "\n",
      "\u001b[1m> Entering new SQLDatabaseChain chain...\u001b[0m\n",
      "How much revenue  our store will generate by selling all Van Heuson TShirts without discount?\n",
      "\u001b[32;1m\u001b[1;3mSELECT sum(price*stock_quantity) as total_revenue from t_shirts where brand='Van Huesen';\u001b[0m\n",
      "SQLResult: \u001b[33;1m\u001b[1;3m[(Decimal('31290'),)]\u001b[0m\n",
      "\u001b[32;1m\u001b[1;3m31290\u001b[0m\n",
      "\u001b[1m> Finished chain.\u001b[0m\n"
     ]
    },
    {
     "data": {
      "text/plain": [
       "'31290'"
      ]
     },
     "execution_count": 109,
     "metadata": {},
     "output_type": "execute_result"
    }
   ],
   "source": [
    "new_agent.run('How much revenue  our store will generate by selling all Van Heuson TShirts without discount?')"
   ]
  },
  {
   "cell_type": "code",
   "execution_count": null,
   "id": "8c3c7b18-318e-448b-89a4-106291bd2898",
   "metadata": {},
   "outputs": [],
   "source": []
  }
 ],
 "metadata": {
  "kernelspec": {
   "display_name": "Python 3 (ipykernel)",
   "language": "python",
   "name": "python3"
  },
  "language_info": {
   "codemirror_mode": {
    "name": "ipython",
    "version": 3
   },
   "file_extension": ".py",
   "mimetype": "text/x-python",
   "name": "python",
   "nbconvert_exporter": "python",
   "pygments_lexer": "ipython3",
   "version": "3.13.1"
  }
 },
 "nbformat": 4,
 "nbformat_minor": 5
}
